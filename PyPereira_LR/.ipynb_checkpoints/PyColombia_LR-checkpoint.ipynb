{
 "cells": [
  {
   "cell_type": "markdown",
   "metadata": {},
   "source": [
    "# Regresión Lineal, más allá del R^2"
   ]
  },
  {
   "cell_type": "code",
   "execution_count": null,
   "metadata": {},
   "outputs": [],
   "source": [
    "### Load relevant packages\n",
    "\n",
    "import pandas                  as pd\n",
    "import numpy                   as np\n",
    "import matplotlib.pyplot       as plt\n",
    "import seaborn                 as sns\n",
    "import statsmodels.api         as sm\n",
    "import statsmodels.formula.api as smf\n",
    "import scipy\n",
    "import os\n",
    "\n",
    "# This statement allow to display plot without asking to \n",
    "%matplotlib inline\n",
    "\n",
    "# always make it pretty \n",
    "plt.style.use('ggplot')"
   ]
  },
  {
   "cell_type": "markdown",
   "metadata": {},
   "source": [
    "# Objetivos"
   ]
  },
  {
   "cell_type": "markdown",
   "metadata": {},
   "source": [
    "El objetivo de este notebook es ilustrar acerca de los elementos a tener en cuenta al momento de realizar un análisis de regresión, entender los estadísticos que arroja en los outputs y aplicar ajustes de acuerdo con su interpetación."
   ]
  },
  {
   "cell_type": "markdown",
   "metadata": {},
   "source": [
    "## Carga de los datos"
   ]
  },
  {
   "cell_type": "markdown",
   "metadata": {},
   "source": [
    "Fuente del dataset: https://www.kaggle.com/nehalbirla/vehicle-dataset-from-cardekho?select=CAR+DETAILS+FROM+CAR+DEKHO.csv\n",
    "\n",
    "\n",
    "This dataset contains information about used cars listed on www.cardekho.com\n",
    "This data can be used for a lot of purposes such as price prediction to exemplify the use of linear regression in Machine Learning.\n",
    "\n",
    "The columns in the given dataset are as follows:\n",
    "\n",
    "- name: This column should be filled with the name of the car.\n",
    "- year: This column should be filled with the year in which the car was bought.\n",
    "- selling_price: This column should be filled with the price the owner wants to sell the car at.\n",
    "- km_driven: This is the distance completed by the car in km.\n",
    "- fuel: Fuel type of the car.\n",
    "- seller_type: Defines whether the seller is a dealer or an individual.\n",
    "- transmission: Defines whether the car is manual or automatic.\n",
    "- Owner: Defines the number of owners the car has previously had.\n",
    "\n",
    "For used motorcycle datasets please go to https://www.kaggle.com/nehalbirla/motorcycle-dataset"
   ]
  },
  {
   "cell_type": "code",
   "execution_count": null,
   "metadata": {},
   "outputs": [],
   "source": [
    "# Data = pd.read_csv('data/CAR DETAILS FROM CAR DEKHO.csv',\n",
    "Data = pd.read_csv('data/car data.csv',\n",
    "    dtype = { # indicate categorical variables\n",
    "        'year': 'category',\n",
    "        'car_name': 'category',\n",
    "        'fuel': 'category',\n",
    "        'seller_type': 'category',\n",
    "        'transmission': 'category',\n",
    "        'owner': 'category'\n",
    "    }\n",
    ")\n",
    "\n",
    "\n",
    "\n",
    "Data.head()"
   ]
  },
  {
   "cell_type": "markdown",
   "metadata": {},
   "source": [
    "## Exploración de datos"
   ]
  },
  {
   "cell_type": "code",
   "execution_count": null,
   "metadata": {},
   "outputs": [],
   "source": [
    "varstolook = ['year', 'present_price', 'km_driven',\n",
    "       'fuel', 'seller_type', 'transmission', 'owner']\n",
    "\n",
    "cvarstolook = ['year', 'fuel', 'seller_type', 'transmission', 'owner']\n",
    "\n",
    "plt.figure(figsize=(15,30))\n",
    "\n",
    "for i,var in enumerate(varstolook):\n",
    "    plt.subplot(5,3,i+1)\n",
    "    if var in cvarstolook:\n",
    "        sns.boxplot(x=var, y='selling_price', data=Data)\n",
    "    else:\n",
    "        sns.scatterplot(x=var,y='selling_price',data=Data, alpha=0.10,color='b')"
   ]
  },
  {
   "cell_type": "code",
   "execution_count": null,
   "metadata": {},
   "outputs": [],
   "source": [
    "sns.scatterplot(x='km_driven',y='selling_price',data=Data, alpha=0.50, hue = 'year')"
   ]
  },
  {
   "cell_type": "markdown",
   "metadata": {},
   "source": [
    "## Ajustando un modelo de Regresión"
   ]
  },
  {
   "cell_type": "code",
   "execution_count": null,
   "metadata": {},
   "outputs": [],
   "source": [
    "formula_m1 = 'selling_price ~ year + present_price + km_driven + fuel + seller_type + transmission + owner'\n",
    "\n",
    "model_1 = smf.ols(formula= formula_m1, data=Data).fit()\n",
    "print(model_1.summary())"
   ]
  },
  {
   "cell_type": "markdown",
   "metadata": {},
   "source": [
    "### Normalidad de los residuos"
   ]
  },
  {
   "cell_type": "markdown",
   "metadata": {},
   "source": [
    "**Análisis *inicial* del modelo**\n",
    "\n",
    "- ¿Qué podemos concluir de las variables usadas?: \n",
    "- ¿Qué podemos concluir sobre el ajuste del modelo?: \n",
    "- ¿Se podría confiar en este modelo para hacer estimaciones?:\n",
    "- ¿Se cumplen los supuestos de Regresión?\n"
   ]
  },
  {
   "cell_type": "code",
   "execution_count": null,
   "metadata": {},
   "outputs": [],
   "source": [
    "plt.figure(figsize=(20,10))\n",
    "\n",
    "plt.subplot(2,3,1)\n",
    "\n",
    "model_1.resid.hist(bins = 100)\n",
    "plt.title(\"Histogram for Residuals\")\n",
    "\n",
    "\n",
    "from scipy import stats\n",
    "\n",
    "\n",
    "plt.subplot(2,3,2)\n",
    "\n",
    "stats.probplot(x = model_1.resid, dist = \"norm\", plot = plt)\n",
    "plt.title(\"QQ Plot for Residuals\")\n",
    "plt.show()"
   ]
  },
  {
   "cell_type": "markdown",
   "metadata": {},
   "source": [
    "**¿Se cumplen los supuestos de Regresión?**\n",
    "\n",
    "Respuesta: "
   ]
  },
  {
   "cell_type": "code",
   "execution_count": null,
   "metadata": {},
   "outputs": [],
   "source": [
    "Data['log_selling_price'] = np.log(Data['selling_price'])\n",
    "\n",
    "formula_m2 = 'log_selling_price ~ year + present_price + km_driven + fuel + seller_type + transmission + owner'\n",
    "\n",
    "model_2 = smf.ols(formula= formula_m2, data=Data).fit()\n",
    "print(model_2.summary())"
   ]
  },
  {
   "cell_type": "code",
   "execution_count": null,
   "metadata": {},
   "outputs": [],
   "source": [
    "plt.figure(figsize=(20,10))\n",
    "\n",
    "plt.subplot(2,3,1)\n",
    "\n",
    "model_2.resid.hist(bins = 100)\n",
    "plt.title(\"Histogram for Residuals\")\n",
    "\n",
    "\n",
    "from scipy import stats\n",
    "\n",
    "\n",
    "plt.subplot(2,3,2)\n",
    "\n",
    "stats.probplot(x = model_2.resid, dist = \"norm\", plot = plt)\n",
    "plt.title(\"QQ Plot for Residuals\")\n",
    "plt.show()"
   ]
  },
  {
   "cell_type": "code",
   "execution_count": null,
   "metadata": {},
   "outputs": [],
   "source": [
    "formula_m3 = 'log_selling_price ~ year + present_price + fuel + seller_type + owner'\n",
    "\n",
    "model_3 = smf.ols(formula= formula_m3, data=Data).fit()\n",
    "print(model_3.summary())"
   ]
  },
  {
   "cell_type": "code",
   "execution_count": null,
   "metadata": {},
   "outputs": [],
   "source": [
    "plt.figure(figsize=(20,10))\n",
    "\n",
    "plt.subplot(2,3,1)\n",
    "\n",
    "model_3.resid.hist(bins = 100)\n",
    "plt.title(\"Histogram for Residuals\")\n",
    "\n",
    "\n",
    "from scipy import stats\n",
    "\n",
    "\n",
    "plt.subplot(2,3,2)\n",
    "\n",
    "stats.probplot(x = model_3.resid, dist = \"norm\", plot = plt)\n",
    "plt.title(\"QQ Plot for Residuals\")\n",
    "plt.show()"
   ]
  },
  {
   "cell_type": "code",
   "execution_count": null,
   "metadata": {},
   "outputs": [],
   "source": [
    "plt.hist(model_3.resid, \n",
    "    density=True,     # the histogram integrates to 1 \n",
    "                      # (so it can be compared to the normal distribution)\n",
    "    bins=100,         #  draw a histogram with 100 bins of equal width\n",
    "    label=\"residuals\" # label for legend\n",
    "    )\n",
    "# now plot the normal distribution for comparison\n",
    "xx = np.linspace(model_3.resid.min(), model_3.resid.max(), num=10000)\n",
    "plt.plot(xx, scipy.stats.norm.pdf(xx, loc=0.0, scale=np.sqrt(model_3.scale)),\n",
    "    label=\"normal distribution\")\n",
    "sns.rugplot(model_3.resid[np.abs(model_3.resid)>4*np.sqrt(model_3.scale)],\n",
    "            color=\"C5\", # otherwise the color was the same as the histogram\n",
    "            label=\"outliers\")\n",
    "plt.legend(loc=\"upper left\")\n",
    ";"
   ]
  },
  {
   "cell_type": "markdown",
   "metadata": {},
   "source": [
    "### Heterocedasticidad"
   ]
  },
  {
   "cell_type": "code",
   "execution_count": null,
   "metadata": {},
   "outputs": [],
   "source": [
    "formula_m4 = 'log_selling_price ~ present_price'\n",
    "\n",
    "model_4 = smf.ols(formula= formula_m4, data=Data).fit()\n",
    "print(model_4.summary())"
   ]
  },
  {
   "cell_type": "code",
   "execution_count": null,
   "metadata": {},
   "outputs": [],
   "source": [
    "sns.scatterplot(x = Data.present_price, y = model_4.resid)"
   ]
  },
  {
   "cell_type": "code",
   "execution_count": null,
   "metadata": {},
   "outputs": [],
   "source": [
    "formula_m5 = 'log_selling_price ~ np.log(present_price)'\n",
    "\n",
    "model_5 = smf.ols(formula= formula_m5, data=Data).fit()\n",
    "print(model_5.summary())"
   ]
  },
  {
   "cell_type": "code",
   "execution_count": null,
   "metadata": {},
   "outputs": [],
   "source": [
    "sns.scatterplot(x = np.log(Data.present_price), y = model_4.resid, data= Data)"
   ]
  },
  {
   "cell_type": "markdown",
   "metadata": {},
   "source": [
    "### Multicolinealidad"
   ]
  },
  {
   "cell_type": "code",
   "execution_count": null,
   "metadata": {},
   "outputs": [],
   "source": [
    "mtcars = sm.datasets.get_rdataset(\"mtcars\", \"datasets\", cache=True).data\n",
    "mtcars = pd.DataFrame(mtcars)\n",
    "\n",
    "mtcars"
   ]
  },
  {
   "cell_type": "code",
   "execution_count": null,
   "metadata": {},
   "outputs": [],
   "source": [
    "plt.figure(figsize=(6,5))\n",
    "sns.heatmap(mtcars.corr(), cmap=\"RdYlBu\", \n",
    "    annot=True, square=True,\n",
    "    vmin=-0.8, vmax=0.8, fmt=\"+.1f\")\n",
    "plt.title(\"Correlations between predictors\")"
   ]
  },
  {
   "cell_type": "code",
   "execution_count": null,
   "metadata": {},
   "outputs": [],
   "source": [
    "mtcars.corr().style.background_gradient(cmap = 'coolwarm')"
   ]
  }
 ],
 "metadata": {
  "kernelspec": {
   "display_name": "Python 3",
   "language": "python",
   "name": "python3"
  },
  "language_info": {
   "codemirror_mode": {
    "name": "ipython",
    "version": 3
   },
   "file_extension": ".py",
   "mimetype": "text/x-python",
   "name": "python",
   "nbconvert_exporter": "python",
   "pygments_lexer": "ipython3",
   "version": "3.6.5"
  }
 },
 "nbformat": 4,
 "nbformat_minor": 4
}
